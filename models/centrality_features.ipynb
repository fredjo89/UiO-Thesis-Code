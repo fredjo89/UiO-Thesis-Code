{
 "cells": [
  {
   "cell_type": "markdown",
   "id": "1192c29e",
   "metadata": {},
   "source": [
    "# #1: Import Packages"
   ]
  },
  {
   "cell_type": "code",
   "execution_count": null,
   "id": "68e4e940",
   "metadata": {},
   "outputs": [],
   "source": [
    "# General \n",
    "import sys, numpy as np, pandas as pd, math, matplotlib.pyplot as plt, datetime, copy, os\n",
    "\n",
    "# Pytorch, pytorch Geometric\n",
    "import torch, torch_geometric\n",
    "from torch_geometric.data import HeteroData\n",
    "\n",
    "# Sklearn\n",
    "import sklearn\n",
    "\n",
    "sys.path.insert(1, '/home/ec2-user/SageMaker/repos/fredriks-thesis/python')\n",
    "import helper_functions, graph_preprocessing, nn_models, hetero_models, graphSage_models, div_models"
   ]
  },
  {
   "cell_type": "markdown",
   "id": "6a7b3b1d",
   "metadata": {},
   "source": [
    "# #2: Settings"
   ]
  },
  {
   "cell_type": "code",
   "execution_count": null,
   "id": "39488fd3",
   "metadata": {},
   "outputs": [],
   "source": [
    "model_file_path = \"/home/ec2-user/SageMaker/repos/fredriks-thesis/notebooks/09_model_performance_script/models/\"\n",
    "\n",
    "settings = {\n",
    "    'dataset': 1e4\n",
    "    ,'seed': 0}"
   ]
  },
  {
   "cell_type": "markdown",
   "id": "fea92a5b",
   "metadata": {},
   "source": [
    "# #3: Load Dataset and Data Preprocessing"
   ]
  },
  {
   "cell_type": "code",
   "execution_count": null,
   "id": "ba3b0af1",
   "metadata": {},
   "outputs": [],
   "source": [
    "filepath = '/home/ec2-user/SageMaker/s3/exploration-876679093433-ew1-initiative-pop-amlanalysis/data/fredriks-thesis/heterographs_01/'\n",
    "filename = \"heterograph_externalnodes_{:.0f}.pt\".format(settings['dataset'])\n",
    "\n",
    "data = torch.load(filepath+filename)\n",
    "\n",
    "# Removing the attribute globalRiskScore\n",
    "data['ind'].x = torch.cat((data['ind'].x[:,0:4], data['ind'].x[:,5:data['ind'].x.shape[1]]), 1)\n",
    "data['org'].x = torch.cat((data['org'].x[:,0:3], data['org'].x[:,4:data['ind'].x.shape[1]]), 1)\n",
    "#data['ind'].attr_names.remove('globalRiskScore')\n",
    "#data['org'].attr_names.remove('globalRiskScore')\n",
    "\n",
    "torch.manual_seed(settings['seed']) # Setting torch random state seed\n",
    "\n",
    "# Create num_features variables\n",
    "data['ind'].num_features = data['ind'].x.shape[1]\n",
    "data['org'].num_features = data['org'].x.shape[1]\n",
    "data['ext'].num_features = data['ext'].x.shape[1]\n",
    "\n",
    "# Reversing all edges \n",
    "data = graph_preprocessing.reverse_edges(data)\n",
    "# Applying log to node feature transaction amounts and edge feature transaction amounts: \n",
    "data = graph_preprocessing.apply_log_to_txns(data)\n",
    "# Normalizing node features\n",
    "data = graph_preprocessing.normalize_node_features(data)\n",
    "# Scaling edge_attributes to be in range [0.01,1]\n",
    "data = graph_preprocessing.scaling_edge_attr(data)\n",
    "\n",
    "\n",
    "# Adding dummy-features for role-edges; ones for all edges\n",
    "data[('ind', 'role', 'org')].edge_attr = torch.ones([data[('ind', 'role', 'org')].edge_index.shape[1],1], dtype = torch.float32)\n",
    "data[('org', 'rev_role', 'ind')].edge_attr = torch.ones([data[('org', 'rev_role', 'ind')].edge_index.shape[1],1], dtype = torch.float32)\n",
    "\n",
    "# Define device and transfer data to device\n",
    "device = torch.device(\"cuda:0\" if torch.cuda.is_available() else \"cpu\")"
   ]
  },
  {
   "cell_type": "markdown",
   "id": "ca4d01be",
   "metadata": {},
   "source": [
    "# Create homogeneous graphs from input"
   ]
  },
  {
   "cell_type": "code",
   "execution_count": null,
   "id": "46cf7481",
   "metadata": {},
   "outputs": [],
   "source": [
    "num_ind = data['ind'].x.shape[0]\n",
    "num_org = data['org'].x.shape[0]\n",
    "num_ext = data['ext'].x.shape[0]\n",
    "\n",
    "########################################################################\n",
    "# data_homo_2\n",
    "########################################################################\n",
    "data_homo_ind = torch_geometric.data.Data(x=torch.ones(num_ind), edge_index=  data[('ind', 'txn', 'ind')].edge_index, edge_attr =  data[('ind', 'txn', 'ind')].edge_attr)\n",
    "data_homo_org = torch_geometric.data.Data(x=torch.ones(num_org), edge_index=  data[('org', 'txn', 'org')].edge_index, edge_attr =  data[('org', 'txn', 'org')].edge_attr)"
   ]
  },
  {
   "cell_type": "code",
   "execution_count": null,
   "id": "6a2fe949",
   "metadata": {},
   "outputs": [],
   "source": [
    "import networkx as nx\n",
    "\n",
    "start_time_total = helper_functions.stopwatch()\n",
    "\n",
    "# Transform the homogeneous graph to a networkX-graph\n",
    "nx_data_homo_ind = torch_geometric.utils.to_networkx(data_homo_ind, to_undirected=False)\n",
    "nx_data_homo_org = torch_geometric.utils.to_networkx(data_homo_org, to_undirected=False)\n",
    "\n",
    "# Add edge weights to ind\n",
    "for it in range(data_homo_ind.edge_index.shape[1]):\n",
    "    edge = data_homo_ind.edge_index[:,it]\n",
    "    my_from = int(edge[0])\n",
    "    my_to = int(edge[1])\n",
    "    nx_data_homo_ind[my_from][my_to]['weight'] = float(data_homo_ind.edge_attr[it,1])\n",
    "\n",
    "    \n",
    "# Add edge weights to org\n",
    "for it in range(data_homo_org.edge_index.shape[1]):\n",
    "    edge = data_homo_org.edge_index[:,it]\n",
    "    my_from = int(edge[0])\n",
    "    my_to = int(edge[1])\n",
    "    nx_data_homo_org[my_from][my_to]['weight'] = float(data_homo_org.edge_attr[it,1])\n",
    "\n",
    "\n",
    "helper_functions.stopwatch(start_time_total)\n",
    "helper_functions.sound_alert()"
   ]
  },
  {
   "cell_type": "markdown",
   "id": "34928026",
   "metadata": {},
   "source": [
    "# Eigenvector_centrality"
   ]
  },
  {
   "cell_type": "code",
   "execution_count": null,
   "id": "8c0c39d9",
   "metadata": {},
   "outputs": [],
   "source": [
    "start_time_total = helper_functions.stopwatch()\n",
    "\n",
    "eigenvector_ind = nx.eigenvector_centrality(nx_data_homo_ind, max_iter = 100000, weight = \"weight\")\n",
    "helper_functions.stopwatch(start_time_total)\n",
    "\n",
    "eigenvector_org = nx.eigenvector_centrality(nx_data_homo_org, max_iter = 100000, weight = \"weight\")\n",
    "\n",
    "helper_functions.stopwatch(start_time_total)\n",
    "helper_functions.sound_alert()"
   ]
  },
  {
   "cell_type": "markdown",
   "id": "a7a5107f",
   "metadata": {},
   "source": [
    "# betweenness_centrality"
   ]
  },
  {
   "cell_type": "code",
   "execution_count": null,
   "id": "1b414ef8",
   "metadata": {},
   "outputs": [],
   "source": [
    "frac_ind = 0.0004\n",
    "frac_org = 0.002\n",
    "\n",
    "one_calc = 11/math.pow(3356,2)\n",
    "k_ind = math.ceil(num_ind*frac_ind)\n",
    "k_org = math.ceil(num_org*frac_org)\n",
    "\n",
    "estimate_time_ind = one_calc*k_ind*num_ind\n",
    "print(\"k_ind: {}, Estimate time ind: {:.4f}s\".format(k_ind, estimate_time_ind))\n",
    "\n",
    "estimate_time_org = one_calc*k_org*num_org\n",
    "print(\"k_org: {}, Estimate time org: {:.4f}s\".format(k_org,estimate_time_org))"
   ]
  },
  {
   "cell_type": "code",
   "execution_count": null,
   "id": "9ea07bc7",
   "metadata": {},
   "outputs": [],
   "source": [
    "start_time_total = helper_functions.stopwatch()\n",
    "betweenness_ind  = nx.betweenness_centrality(nx_data_homo_ind, k = k_ind, weight = \"weight\")\n",
    "\n",
    "helper_functions.stopwatch(start_time_total)\n",
    "helper_functions.sound_alert()"
   ]
  },
  {
   "cell_type": "code",
   "execution_count": null,
   "id": "1bb8ae12",
   "metadata": {},
   "outputs": [],
   "source": [
    "start_time_total = helper_functions.stopwatch()\n",
    "betweenness_org  = nx.betweenness_centrality(nx_data_homo_org, k = k_org, weight = \"weight\")\n",
    "\n",
    "helper_functions.stopwatch(start_time_total)\n",
    "helper_functions.sound_alert()"
   ]
  },
  {
   "cell_type": "code",
   "execution_count": null,
   "id": "9330fa3f",
   "metadata": {},
   "outputs": [],
   "source": [
    "betweenness_ind = torch.tensor(list(betweenness_ind.values()))\n",
    "betweenness_ind = betweenness_ind.reshape(betweenness_ind.shape[0],1)\n",
    "eigenvector_ind = torch.tensor(list(eigenvector_ind.values()))\n",
    "eigenvector_ind = eigenvector_ind.reshape(eigenvector_ind.shape[0],1)\n",
    "ind_tensor = torch.cat((betweenness_ind,eigenvector_ind), dim = 1)\n",
    "my_filename_ind = \"centralities_ind_{:.0f}.pt\".format(settings['dataset'])\n",
    "torch.save(ind_tensor, filepath+my_filename_ind)\n",
    "\n",
    "betweenness_org = torch.tensor(list(betweenness_org.values()))\n",
    "betweenness_org = betweenness_org.reshape(betweenness_org.shape[0],1)\n",
    "eigenvector_org = torch.tensor(list(eigenvector_org.values()))\n",
    "eigenvector_org = eigenvector_org.reshape(eigenvector_org.shape[0],1)\n",
    "org_tensor = torch.cat((betweenness_org,eigenvector_org), dim = 1)\n",
    "my_filename_org = \"centralities_org_{:.0f}.pt\".format(settings['dataset'])\n",
    "torch.save(org_tensor, filepath+my_filename_org)"
   ]
  }
 ],
 "metadata": {
  "kernelspec": {
   "display_name": "conda_pytorch_geometric_env",
   "language": "python",
   "name": "conda_pytorch_geometric_env"
  },
  "language_info": {
   "codemirror_mode": {
    "name": "ipython",
    "version": 3
   },
   "file_extension": ".py",
   "mimetype": "text/x-python",
   "name": "python",
   "nbconvert_exporter": "python",
   "pygments_lexer": "ipython3",
   "version": "3.7.0"
  }
 },
 "nbformat": 4,
 "nbformat_minor": 5
}
